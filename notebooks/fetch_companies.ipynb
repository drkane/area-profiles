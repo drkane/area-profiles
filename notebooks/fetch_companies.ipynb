{
 "cells": [
  {
   "cell_type": "code",
   "execution_count": 31,
   "metadata": {},
   "outputs": [],
   "source": [
    "import pandas as pd\n",
    "import requests\n",
    "from tqdm import tqdm_notebook as tqdm"
   ]
  },
  {
   "cell_type": "code",
   "execution_count": 2,
   "metadata": {},
   "outputs": [],
   "source": [
    "GPG_URL = 'https://gender-pay-gap.service.gov.uk/viewing/download-data/2018'"
   ]
  },
  {
   "cell_type": "code",
   "execution_count": 3,
   "metadata": {},
   "outputs": [
    {
     "data": {
      "text/plain": [
       "10812"
      ]
     },
     "execution_count": 3,
     "metadata": {},
     "output_type": "execute_result"
    }
   ],
   "source": [
    "df = pd.read_csv(GPG_URL)\n",
    "len(df)"
   ]
  },
  {
   "cell_type": "code",
   "execution_count": 24,
   "metadata": {},
   "outputs": [
    {
     "data": {
      "text/plain": [
       "9474"
      ]
     },
     "execution_count": 24,
     "metadata": {},
     "output_type": "execute_result"
    }
   ],
   "source": [
    "df = df[df[\"CompanyNumber\"].notnull()]\n",
    "len(df)"
   ]
  },
  {
   "cell_type": "code",
   "execution_count": 15,
   "metadata": {},
   "outputs": [],
   "source": [
    "pc_regex = r'([Gg][Ii][Rr] 0[Aa]{2})|((([A-Za-z][0-9]{1,2})|(([A-Za-z][A-Ha-hJ-Yj-y][0-9]{1,2})|(([A-Za-z][0-9][A-Za-z])|([A-Za-z][A-Ha-hJ-Yj-y][0-9][A-Za-z]?))))\\s?[0-9][A-Za-z]{2})'"
   ]
  },
  {
   "cell_type": "code",
   "execution_count": 20,
   "metadata": {
    "scrolled": false
   },
   "outputs": [],
   "source": [
    "df.loc[:, \"Postcode\"] = df[\"Address\"].str.extract(pc_regex)[1]"
   ]
  },
  {
   "cell_type": "code",
   "execution_count": 33,
   "metadata": {
    "scrolled": false
   },
   "outputs": [
    {
     "data": {
      "application/vnd.jupyter.widget-view+json": {
       "model_id": "3ae13bcd92c6448ab2ae00cb94f7ca4c",
       "version_major": 2,
       "version_minor": 0
      },
      "text/plain": [
       "HBox(children=(IntProgress(value=0, max=20), HTML(value='')))"
      ]
     },
     "metadata": {},
     "output_type": "display_data"
    },
    {
     "name": "stdout",
     "output_type": "stream",
     "text": [
      "\n"
     ]
    }
   ],
   "source": [
    "pc = {}\n",
    "pc_url = 'https://postcodes.findthatcharity.uk/postcodes/{}.json'\n",
    "for p in tqdm(df[\"Postcode\"].head(20).unique()):\n",
    "    r = requests.get(pc_url.format(p.replace(\" \", \"\")))\n",
    "    pc[p] = r.json().get(\"data\", {}).get(\"attributes\", {})"
   ]
  },
  {
   "cell_type": "code",
   "execution_count": 39,
   "metadata": {},
   "outputs": [
    {
     "data": {
      "text/plain": [
       "Index(['bua11', 'bua11_name', 'buasd11', 'buasd11_name', 'calncv',\n",
       "       'calncv_name', 'ccg', 'ccg_name', 'ced', 'ced_name', 'ctry',\n",
       "       'ctry_name', 'cty', 'cty_name', 'dointr', 'doterm', 'eer', 'eer_name',\n",
       "       'hlthau', 'hlthau_name', 'imd', 'lat', 'laua', 'laua_name', 'lep1',\n",
       "       'lep1_name', 'lep2', 'lep2_name', 'location', 'long', 'lsoa11',\n",
       "       'lsoa11_name', 'msoa11', 'msoa11_name', 'nhser', 'nhser_name', 'nuts',\n",
       "       'nuts_name', 'oa11', 'oac11', 'oac11_name', 'oseast1m', 'osgrdind',\n",
       "       'osnrth1m', 'park', 'park_name', 'pcd', 'pcd2', 'pcds', 'pcon',\n",
       "       'pcon_name', 'pct', 'pct_name', 'pfa', 'pfa_name', 'rgn', 'rgn_name',\n",
       "       'ru11ind', 'ru11ind_name', 'stp', 'stp_name', 'teclec', 'teclec_name',\n",
       "       'ttwa', 'ttwa_name', 'usertype', 'ward', 'ward_name', 'wz11'],\n",
       "      dtype='object')"
      ]
     },
     "execution_count": 39,
     "metadata": {},
     "output_type": "execute_result"
    }
   ],
   "source": [
    "pd.DataFrame(pc).T.columns"
   ]
  },
  {
   "cell_type": "code",
   "execution_count": 42,
   "metadata": {},
   "outputs": [],
   "source": [
    "df = df.join(pd.DataFrame(pc).T[[\"lat\", \"long\", \"pcon\", \"cty\", \"laua\", \"ward\", \"lsoa11\", \"rgn\"]], on='Postcode')"
   ]
  },
  {
   "cell_type": "code",
   "execution_count": 23,
   "metadata": {},
   "outputs": [
    {
     "data": {
      "text/plain": [
       "7077"
      ]
     },
     "execution_count": 23,
     "metadata": {},
     "output_type": "execute_result"
    }
   ],
   "source": [
    "len(df[\"Postcode\"].unique())"
   ]
  },
  {
   "cell_type": "code",
   "execution_count": 25,
   "metadata": {},
   "outputs": [
    {
     "data": {
      "text/plain": [
       "False    9445\n",
       "True       29\n",
       "Name: Postcode, dtype: int64"
      ]
     },
     "execution_count": 25,
     "metadata": {},
     "output_type": "execute_result"
    }
   ],
   "source": [
    "df[\"Postcode\"].isnull().value_counts()"
   ]
  },
  {
   "cell_type": "code",
   "execution_count": 51,
   "metadata": {},
   "outputs": [
    {
     "name": "stdout",
     "output_type": "stream",
     "text": [
      "[{\"EmployerName\":\"\\\"RED BAND\\\" CHEMICAL COMPANY, LIMITED\",\"Address\":\"19 Smith's Place,\\r\\nLeith Walk,\\r\\nEdinburgh,\\r\\nEH6 8NU\",\"CompanyNumber\":\"SC016876\",\"SicCodes\":\"47730\",\"DiffMeanHourlyPercent\":7.7,\"DiffMedianHourlyPercent\":-4.2,\"DiffMeanBonusPercent\":23.7,\"DiffMedianBonusPercent\":-75.2,\"MaleBonusPercent\":22.2,\"FemaleBonusPercent\":82.0,\"MaleLowerQuartile\":31.6,\"FemaleLowerQuartile\":68.4,\"MaleLowerMiddleQuartile\":12.7,\"FemaleLowerMiddleQuartile\":87.3,\"MaleUpperMiddleQuartile\":11.6,\"FemaleUpperMiddleQuartile\":88.4,\"MaleTopQuartile\":20.3,\"FemaleTopQuartile\":79.7,\"CompanyLinkToGPGInfo\":null,\"ResponsiblePerson\":\"Philip Galt (Managing Director)\",\"EmployerSize\":\"250 to 499\",\"CurrentName\":\"\\\"RED BAND\\\" CHEMICAL COMPANY, LIMITED\",\"SubmittedAfterTheDeadline\":false,\"DueDate\":\"05\\/04\\/2019 00:00:00\",\"DateSubmitted\":\"01\\/04\\/2019 12:37:21\",\"Postcode\":\"EH6 8NU\",\"lat\":55.967066,\"long\":-3.173121,\"pcon\":\"S14000023\",\"cty\":\"S99999999\",\"laua\":\"S12000036\",\"ward\":\"S13002930\",\"lsoa11\":\"S01008796\",\"rgn\":\"S99999999\"},{\"EmployerName\":\"1ST HOME CARE LTD.\",\"Address\":\"14b Dickson Street,\\r\\nElgin Industrial Estate,\\r\\nDunfermline,\\r\\nFife,\\r\\nScotland,\\r\\nKY12 7SN\",\"CompanyNumber\":\"SC272838\",\"SicCodes\":\"86900,\\r\\n88100\",\"DiffMeanHourlyPercent\":1.0,\"DiffMedianHourlyPercent\":0.0,\"DiffMeanBonusPercent\":null,\"DiffMedianBonusPercent\":null,\"MaleBonusPercent\":0.0,\"FemaleBonusPercent\":0.0,\"MaleLowerQuartile\":7.5,\"FemaleLowerQuartile\":92.5,\"MaleLowerMiddleQuartile\":9.0,\"FemaleLowerMiddleQuartile\":91.0,\"MaleUpperMiddleQuartile\":15.0,\"FemaleUpperMiddleQuartile\":85.0,\"MaleTopQuartile\":6.0,\"FemaleTopQuartile\":94.0,\"CompanyLinkToGPGInfo\":null,\"ResponsiblePerson\":\"Ian Hardcastle (Chief Operating Officer)\",\"EmployerSize\":\"250 to 499\",\"CurrentName\":\"1ST HOME CARE LTD.\",\"SubmittedAfterTheDeadline\":false,\"DueDate\":\"05\\/04\\/2019 00:00:00\",\"DateSubmitted\":\"04\\/04\\/2019 08:22:59\",\"Postcode\":\"KY12 7SN\",\"lat\":56.061204,\"long\":-3.459622,\"pcon\":\"S14000017\",\"cty\":\"S99999999\",\"laua\":\"S12000015\",\"ward\":\"S13002947\",\"lsoa11\":\"S01009310\",\"rgn\":\"S99999999\"},{\"EmployerName\":\"2 AGRICULTURE LIMITED\",\"Address\":\"Fairview Mill, Ingliston,\\r\\nNewbridge,\\r\\nMidlothian,\\r\\nEH28 8NB\",\"CompanyNumber\":\"SC156515\",\"SicCodes\":\"1470,\\r\\n10910\",\"DiffMeanHourlyPercent\":12.7,\"DiffMedianHourlyPercent\":7.4,\"DiffMeanBonusPercent\":57.6,\"DiffMedianBonusPercent\":0.0,\"MaleBonusPercent\":92.9,\"FemaleBonusPercent\":100.0,\"MaleLowerQuartile\":86.2,\"FemaleLowerQuartile\":13.8,\"MaleLowerMiddleQuartile\":96.9,\"FemaleLowerMiddleQuartile\":3.1,\"MaleUpperMiddleQuartile\":96.9,\"FemaleUpperMiddleQuartile\":3.1,\"MaleTopQuartile\":93.7,\"FemaleTopQuartile\":6.3,\"CompanyLinkToGPGInfo\":null,\"ResponsiblePerson\":\"Gavin Berry (Managing Director)\",\"EmployerSize\":\"250 to 499\",\"CurrentName\":\"2 AGRICULTURE LIMITED\",\"SubmittedAfterTheDeadline\":false,\"DueDate\":\"05\\/04\\/2019 00:00:00\",\"DateSubmitted\":\"21\\/03\\/2019 15:35:53\",\"Postcode\":\"EH28 8NB\",\"lat\":55.941115,\"long\":-3.369122,\"pcon\":\"S14000026\",\"cty\":\"S99999999\",\"laua\":\"S12000036\",\"ward\":\"S13002919\",\"lsoa11\":\"S01008993\",\"rgn\":\"S99999999\"},{\"EmployerName\":\"2 SISTERS POULTRY LIMITED\",\"Address\":\"George Street,\\r\\nCoupar Angus,\\r\\nBlairgowrie,\\r\\nPerthshire,\\r\\nUnited Kingdom,\\r\\nPH13 9LU\",\"CompanyNumber\":\"SC440782\",\"SicCodes\":\"10120\",\"DiffMeanHourlyPercent\":4.6,\"DiffMedianHourlyPercent\":2.3,\"DiffMeanBonusPercent\":4.1,\"DiffMedianBonusPercent\":-2.0,\"MaleBonusPercent\":3.8,\"FemaleBonusPercent\":3.2,\"MaleLowerQuartile\":61.5,\"FemaleLowerQuartile\":38.5,\"MaleLowerMiddleQuartile\":63.9,\"FemaleLowerMiddleQuartile\":36.1,\"MaleUpperMiddleQuartile\":68.7,\"FemaleUpperMiddleQuartile\":31.3,\"MaleTopQuartile\":70.4,\"FemaleTopQuartile\":29.6,\"CompanyLinkToGPGInfo\":\"http:\\/\\/www.2sfg.com\\/how-we-work\\/gender\\/\",\"ResponsiblePerson\":\"Lee Greenbury (Group Director of People & Compliance)\",\"EmployerSize\":\"1000 to 4999\",\"CurrentName\":\"2 SISTERS POULTRY LIMITED\",\"SubmittedAfterTheDeadline\":false,\"DueDate\":\"05\\/04\\/2019 00:00:00\",\"DateSubmitted\":\"04\\/04\\/2019 15:17:02\",\"Postcode\":\"PH13 9LU\",\"lat\":56.543732,\"long\":-3.272642,\"pcon\":\"S14000054\",\"cty\":\"S99999999\",\"laua\":\"S12000024\",\"ward\":\"S13003064\",\"lsoa11\":\"S01011969\",\"rgn\":\"S99999999\"}]\n"
     ]
    }
   ],
   "source": [
    "print(df[df[\"rgn\"]==\"S99999999\"].to_json(orient='records'))"
   ]
  },
  {
   "cell_type": "code",
   "execution_count": null,
   "metadata": {},
   "outputs": [],
   "source": []
  }
 ],
 "metadata": {
  "kernelspec": {
   "display_name": "Python 3",
   "language": "python",
   "name": "python3"
  },
  "language_info": {
   "codemirror_mode": {
    "name": "ipython",
    "version": 3
   },
   "file_extension": ".py",
   "mimetype": "text/x-python",
   "name": "python",
   "nbconvert_exporter": "python",
   "pygments_lexer": "ipython3",
   "version": "3.7.2"
  }
 },
 "nbformat": 4,
 "nbformat_minor": 2
}
